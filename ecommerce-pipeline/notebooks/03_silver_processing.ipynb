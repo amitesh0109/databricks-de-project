{
 "cells": [
  {
   "cell_type": "markdown",
   "metadata": {
    "application/vnd.databricks.v1+cell": {
     "cellMetadata": {},
     "inputWidgets": {},
     "nuid": "ee1ce94b-0806-436a-9d53-4c7990e94a7d",
     "showTitle": false,
     "tableResultSettingsMap": {},
     "title": ""
    }
   },
   "source": [
    "# Silver Layer - Data Processing - FINAL VERSION"
   ]
  },
  {
   "cell_type": "code",
   "execution_count": 0,
   "metadata": {
    "application/vnd.databricks.v1+cell": {
     "cellMetadata": {},
     "inputWidgets": {},
     "nuid": "6fab6c27-cf70-4d86-bea4-e87c82510bb3",
     "showTitle": false,
     "tableResultSettingsMap": {},
     "title": ""
    }
   },
   "outputs": [],
   "source": [
    "# Azure Storage Configuration\n",
    "STORAGE_ACCOUNT = \"dataworks\"  # ✅ Set to your actual storage account name\n",
    "\n",
    "# Authentication - Replace with your actual access key\n",
    "#spark.conf.set(f\"fs.azure.account.key.{STORAGE_ACCOUNT}.dfs.core.windows.net\", \"your-actual-access-key-here\")\n",
    "\n",
    "print(f\"Starting Silver Layer with Azure Storage: {STORAGE_ACCOUNT}\")"
   ]
  },
  {
   "cell_type": "code",
   "execution_count": 0,
   "metadata": {
    "application/vnd.databricks.v1+cell": {
     "cellMetadata": {},
     "inputWidgets": {},
     "nuid": "aa0c7496-e0f6-44c5-8103-8abba7d2bfbe",
     "showTitle": false,
     "tableResultSettingsMap": {},
     "title": ""
    }
   },
   "outputs": [],
   "source": [
    "from pyspark.sql import functions as F\n",
    "from pyspark.sql.types import *\n",
    "from datetime import datetime\n",
    "\n",
    "# Get task values from Bronze layer\n",
    "try:\n",
    "    bronze_customers_count = dbutils.jobs.taskValues.get(taskKey=\"bronze_ingestion\", key=\"bronze_customers_count\", debugValue=500)\n",
    "    bronze_products_count = dbutils.jobs.taskValues.get(taskKey=\"bronze_ingestion\", key=\"bronze_products_count\", debugValue=100)\n",
    "    bronze_orders_count = dbutils.jobs.taskValues.get(taskKey=\"bronze_ingestion\", key=\"bronze_orders_count\", debugValue=1000)\n",
    "    bronze_order_items_count = dbutils.jobs.taskValues.get(taskKey=\"bronze_ingestion\", key=\"bronze_order_items_count\", debugValue=2000)\n",
    "    bronze_quality_score = dbutils.jobs.taskValues.get(taskKey=\"bronze_ingestion\", key=\"bronze_data_quality_score\", debugValue=100.0)\n",
    "    bronze_validation_passed = dbutils.jobs.taskValues.get(taskKey=\"bronze_ingestion\", key=\"bronze_validation_passed\", debugValue=True)\n",
    "    \n",
    "    print(f\"📋 Bronze layer metrics received:\")\n",
    "    print(f\"   Customers: {bronze_customers_count}\")\n",
    "    print(f\"   Products: {bronze_products_count}\")\n",
    "    print(f\"   Orders: {bronze_orders_count}\")\n",
    "    print(f\"   Order Items: {bronze_order_items_count}\")\n",
    "    print(f\"   Quality Score: {bronze_quality_score}%\")\n",
    "    print(f\"   Validation Passed: {bronze_validation_passed}\")\n",
    "    \n",
    "except Exception as e:\n",
    "    print(f\"Could not retrieve Bronze task values (running standalone): {e}\")\n",
    "    bronze_validation_passed = True\n",
    "\n",
    "# Azure Storage Path Configuration\n",
    "SILVER_PATH = f'abfss://silver@{STORAGE_ACCOUNT}.dfs.core.windows.net/delta/'\n",
    "\n",
    "# Don't create the generic silver directory - let Delta handle individual table paths\n",
    "# Database setup\n",
    "spark.sql(\"CREATE DATABASE IF NOT EXISTS ecommerce_silver\")\n",
    "spark.sql(\"USE ecommerce_silver\")\n",
    "\n",
    "print(f\"✅ Silver layer configured: {SILVER_PATH}\")\n",
    "print(\"📋 Delta will create individual table paths as needed\")"
   ]
  },
  {
   "cell_type": "code",
   "execution_count": 0,
   "metadata": {
    "application/vnd.databricks.v1+cell": {
     "cellMetadata": {},
     "inputWidgets": {},
     "nuid": "95d0606e-61cf-4977-8829-9e8e9e1e9b93",
     "showTitle": false,
     "tableResultSettingsMap": {},
     "title": ""
    }
   },
   "outputs": [],
   "source": [
    "# Load Bronze tables from Bronze container\n",
    "bronze_customers = spark.table(\"ecommerce_bronze.customers\")\n",
    "bronze_products = spark.table(\"ecommerce_bronze.products\") \n",
    "bronze_orders = spark.table(\"ecommerce_bronze.orders\")\n",
    "bronze_order_items = spark.table(\"ecommerce_bronze.order_items\")\n",
    "\n",
    "print(\"✅ Bronze tables loaded successfully\")"
   ]
  },
  {
   "cell_type": "code",
   "execution_count": 0,
   "metadata": {
    "application/vnd.databricks.v1+cell": {
     "cellMetadata": {},
     "inputWidgets": {},
     "nuid": "1624eb57-0b2c-4949-8645-f4bb847e756d",
     "showTitle": false,
     "tableResultSettingsMap": {},
     "title": ""
    }
   },
   "outputs": [],
   "source": [
    "# Clean customers data\n",
    "print(\"🔄 Processing customers...\")\n",
    "\n",
    "silver_customers = (bronze_customers\n",
    "    .filter(F.col(\"customer_id\").isNotNull())\n",
    "    .filter(F.col(\"is_active\") == True)\n",
    "    .withColumn(\"full_name\", F.concat(F.col(\"first_name\"), F.lit(\" \"), F.col(\"last_name\")))\n",
    "    .withColumn(\"email_domain\", F.split(F.col(\"email\"), \"@\").getItem(1))\n",
    "    .withColumn(\"customer_since_days\", F.datediff(F.current_date(), F.col(\"registration_date\")))\n",
    "    .select(\"customer_id\", \"full_name\", \"email\", \"email_domain\", \"country\", \"city\", \n",
    "            \"segment\", \"registration_date\", \"customer_since_days\")\n",
    ")\n",
    "\n",
    "# Remove bad emails\n",
    "silver_customers = silver_customers.filter(F.col(\"email\").contains(\"@\"))\n",
    "\n",
    "# Save to Silver container with specific table path\n",
    "customers_silver_path = f\"{SILVER_PATH}customers/\"\n",
    "silver_customers.write \\\n",
    "    .format(\"delta\") \\\n",
    "    .mode(\"overwrite\") \\\n",
    "    .option(\"mergeSchema\", \"true\") \\\n",
    "    .option(\"path\", customers_silver_path) \\\n",
    "    .saveAsTable(\"ecommerce_silver.customers\")\n",
    "\n",
    "customers_silver_count = silver_customers.count()\n",
    "print(f\"✅ Silver customers: {customers_silver_count} records\")"
   ]
  },
  {
   "cell_type": "code",
   "execution_count": 0,
   "metadata": {
    "application/vnd.databricks.v1+cell": {
     "cellMetadata": {},
     "inputWidgets": {},
     "nuid": "b1c92671-cba2-42f9-a2ee-f5eb6c88de31",
     "showTitle": false,
     "tableResultSettingsMap": {},
     "title": ""
    }
   },
   "outputs": [],
   "source": [
    "# Clean products data\n",
    "print(\"🔄 Processing products...\")\n",
    "\n",
    "silver_products = (bronze_products\n",
    "    .filter(F.col(\"product_id\").isNotNull())\n",
    "    .filter(F.col(\"price\") > 0)\n",
    "    .filter(F.col(\"is_active\") == True)\n",
    "    .withColumn(\"price_category\", \n",
    "        F.when(F.col(\"price\") < 50, \"Budget\")\n",
    "        .when(F.col(\"price\") < 200, \"Standard\") \n",
    "        .otherwise(\"Premium\"))\n",
    "    .withColumn(\"profit_margin\", \n",
    "        F.round((F.col(\"price\") - F.col(\"cost\")) / F.col(\"price\") * 100, 2))\n",
    "    .withColumn(\"inventory_status\",\n",
    "        F.when(F.col(\"stock_quantity\") < 20, \"Low Stock\")\n",
    "        .when(F.col(\"stock_quantity\") < 100, \"Normal\")\n",
    "        .otherwise(\"High Stock\"))\n",
    "    .select(\"product_id\", \"product_name\", \"category\", \"subcategory\", \"price\", \"cost\", \n",
    "            \"price_category\", \"profit_margin\", \"stock_quantity\", \"inventory_status\")\n",
    ")\n",
    "\n",
    "# Save to Silver container with specific table path\n",
    "products_silver_path = f\"{SILVER_PATH}products/\"\n",
    "silver_products.write \\\n",
    "    .format(\"delta\") \\\n",
    "    .mode(\"overwrite\") \\\n",
    "    .option(\"mergeSchema\", \"true\") \\\n",
    "    .option(\"path\", products_silver_path) \\\n",
    "    .saveAsTable(\"ecommerce_silver.products\")\n",
    "\n",
    "products_silver_count = silver_products.count()\n",
    "print(f\"✅ Silver products: {products_silver_count} records\")"
   ]
  },
  {
   "cell_type": "code",
   "execution_count": 0,
   "metadata": {
    "application/vnd.databricks.v1+cell": {
     "cellMetadata": {},
     "inputWidgets": {},
     "nuid": "5645bdf6-939c-484f-bf52-66f90b29d970",
     "showTitle": false,
     "tableResultSettingsMap": {},
     "title": ""
    }
   },
   "outputs": [],
   "source": [
    "# Clean and enrich orders data\n",
    "print(\"🔄 Processing orders...\")\n",
    "\n",
    "silver_orders = (bronze_orders\n",
    "    .filter(F.col(\"order_id\").isNotNull())\n",
    "    .filter(F.col(\"total_amount\") > 0)\n",
    "    .join(silver_customers.select(\"customer_id\", \"country\", \"segment\"), \"customer_id\", \"inner\")\n",
    "    .withColumn(\"order_year\", F.year(F.col(\"order_date\")))\n",
    "    .withColumn(\"order_month\", F.month(F.col(\"order_date\")))\n",
    "    .withColumn(\"order_quarter\", F.quarter(F.col(\"order_date\")))\n",
    "    .withColumn(\"order_dayofweek\", F.dayofweek(F.col(\"order_date\")))\n",
    "    .withColumn(\"revenue_category\",\n",
    "        F.when(F.col(\"total_amount\") < 100, \"Small\")\n",
    "        .when(F.col(\"total_amount\") < 500, \"Medium\")\n",
    "        .otherwise(\"Large\"))\n",
    "    .withColumn(\"days_since_order\", F.datediff(F.current_date(), F.col(\"order_date\")))\n",
    "    .withColumn(\"is_weekend\", F.when(F.col(\"order_dayofweek\").isin([1, 7]), True).otherwise(False))\n",
    "    .select(\"order_id\", \"customer_id\", \"order_date\", \"order_year\", \"order_month\", \"order_quarter\",\n",
    "            \"order_dayofweek\", \"is_weekend\", \"status\", \"payment_method\", \"subtotal\", \"shipping_cost\", \n",
    "            \"tax_amount\", \"total_amount\", \"revenue_category\", \"days_since_order\", \"country\", \"segment\")\n",
    ")\n",
    "\n",
    "# Save to Silver container with specific table path\n",
    "orders_silver_path = f\"{SILVER_PATH}orders/\"\n",
    "silver_orders.write \\\n",
    "    .format(\"delta\") \\\n",
    "    .mode(\"overwrite\") \\\n",
    "    .option(\"mergeSchema\", \"true\") \\\n",
    "    .option(\"path\", orders_silver_path) \\\n",
    "    .saveAsTable(\"ecommerce_silver.orders\")\n",
    "\n",
    "orders_silver_count = silver_orders.count()\n",
    "print(f\"✅ Silver orders: {orders_silver_count} records\")"
   ]
  },
  {
   "cell_type": "code",
   "execution_count": 0,
   "metadata": {
    "application/vnd.databricks.v1+cell": {
     "cellMetadata": {},
     "inputWidgets": {},
     "nuid": "bb7a7f43-3cc2-4ec8-b86d-b1f1634ef1f9",
     "showTitle": false,
     "tableResultSettingsMap": {},
     "title": ""
    }
   },
   "outputs": [],
   "source": [
    "# Clean order items and join with product info\n",
    "print(\"🔄 Processing order items...\")\n",
    "\n",
    "silver_order_items = (bronze_order_items\n",
    "    .filter(F.col(\"order_id\").isNotNull())\n",
    "    .filter(F.col(\"product_id\").isNotNull())\n",
    "    .filter(F.col(\"quantity\") > 0)\n",
    "    .join(silver_products.select(\"product_id\", \"price\", \"cost\", \"price_category\", \"profit_margin\"), \"product_id\", \"inner\")\n",
    "    .withColumn(\"total_cost\", F.col(\"quantity\") * F.col(\"cost\"))\n",
    "    .withColumn(\"profit\", F.col(\"line_total\") - F.col(\"total_cost\"))\n",
    "    .withColumn(\"discount_amount\", F.col(\"quantity\") * F.col(\"price\") * F.col(\"discount_percent\") / 100)\n",
    "    .withColumn(\"profit_margin_item\", F.round(F.col(\"profit\") / F.col(\"line_total\") * 100, 2))\n",
    "    .select(\"order_id\", \"product_id\", \"product_name\", \"category\", \"quantity\", \n",
    "            \"unit_price\", \"discount_percent\", \"discount_amount\", \"line_total\", \n",
    "            \"total_cost\", \"profit\", \"profit_margin_item\", \"price_category\")\n",
    ")\n",
    "\n",
    "# Save to Silver container with specific table path\n",
    "order_items_silver_path = f\"{SILVER_PATH}order_items/\"\n",
    "silver_order_items.write \\\n",
    "    .format(\"delta\") \\\n",
    "    .mode(\"overwrite\") \\\n",
    "    .option(\"mergeSchema\", \"true\") \\\n",
    "    .option(\"path\", order_items_silver_path) \\\n",
    "    .saveAsTable(\"ecommerce_silver.order_items\")\n",
    "\n",
    "order_items_silver_count = silver_order_items.count()\n",
    "print(f\"✅ Silver order items: {order_items_silver_count} records\")"
   ]
  },
  {
   "cell_type": "code",
   "execution_count": 0,
   "metadata": {
    "application/vnd.databricks.v1+cell": {
     "cellMetadata": {},
     "inputWidgets": {},
     "nuid": "10e6896f-bba9-4186-8d73-9e55d914be48",
     "showTitle": false,
     "tableResultSettingsMap": {},
     "title": ""
    }
   },
   "outputs": [],
   "source": [
    "# Create customer summary\n",
    "print(\"🔄 Creating customer summary...\")\n",
    "\n",
    "customer_summary = (silver_orders\n",
    "    .groupBy(\"customer_id\", \"country\", \"segment\")\n",
    "    .agg(\n",
    "        F.count(\"order_id\").alias(\"total_orders\"),\n",
    "        F.sum(\"total_amount\").alias(\"total_spent\"),\n",
    "        F.avg(\"total_amount\").alias(\"avg_order_value\"),\n",
    "        F.max(\"order_date\").alias(\"last_order_date\"),\n",
    "        F.min(\"order_date\").alias(\"first_order_date\")\n",
    "    )\n",
    "    .withColumn(\"customer_lifetime_value\", F.col(\"total_spent\"))\n",
    "    .withColumn(\"days_since_last_order\", \n",
    "        F.datediff(F.current_date(), F.col(\"last_order_date\")))\n",
    "    .withColumn(\"customer_tenure_days\",\n",
    "        F.datediff(F.col(\"last_order_date\"), F.col(\"first_order_date\")))\n",
    "    .withColumn(\"order_frequency\", \n",
    "        F.when(F.col(\"customer_tenure_days\") > 0, \n",
    "               F.round(F.col(\"total_orders\") / (F.col(\"customer_tenure_days\") / 30.0), 2))\n",
    "        .otherwise(0))\n",
    "    .withColumn(\"customer_value_tier\",\n",
    "        F.when(F.col(\"total_spent\") >= 1000, \"High Value\")\n",
    "        .when(F.col(\"total_spent\") >= 500, \"Medium Value\")\n",
    "        .otherwise(\"Low Value\"))\n",
    ")\n",
    "\n",
    "# Save to Silver container with specific table path\n",
    "customer_summary_path = f\"{SILVER_PATH}customer_summary/\"\n",
    "customer_summary.write \\\n",
    "    .format(\"delta\") \\\n",
    "    .mode(\"overwrite\") \\\n",
    "    .option(\"mergeSchema\", \"true\") \\\n",
    "    .option(\"path\", customer_summary_path) \\\n",
    "    .saveAsTable(\"ecommerce_silver.customer_summary\")\n",
    "\n",
    "customer_summary_count = customer_summary.count()\n",
    "print(f\"✅ Customer summary: {customer_summary_count} records\")"
   ]
  },
  {
   "cell_type": "code",
   "execution_count": 0,
   "metadata": {
    "application/vnd.databricks.v1+cell": {
     "cellMetadata": {},
     "inputWidgets": {},
     "nuid": "0dc89564-0a4f-4f47-9a31-102a02f4ae64",
     "showTitle": false,
     "tableResultSettingsMap": {},
     "title": ""
    }
   },
   "outputs": [],
   "source": [
    "# Data Quality Validation\n",
    "print(\"🔍 SILVER LAYER DATA QUALITY CHECKS\")\n",
    "print(\"=\" * 50)\n",
    "\n",
    "# Check for data integrity\n",
    "orders_without_customers = (silver_orders\n",
    "    .join(silver_customers, \"customer_id\", \"left_anti\")\n",
    "    .count())\n",
    "\n",
    "items_without_orders = (silver_order_items\n",
    "    .join(silver_orders.select(\"order_id\"), \"order_id\", \"left_anti\")\n",
    "    .count())\n",
    "\n",
    "items_without_products = (silver_order_items\n",
    "    .join(silver_products.select(\"product_id\"), \"product_id\", \"left_anti\")\n",
    "    .count())\n",
    "\n",
    "negative_profits = silver_order_items.filter(F.col('profit') < 0).count()\n",
    "invalid_emails = silver_customers.filter(~F.col(\"email\").contains(\"@\")).count()\n",
    "\n",
    "print(f\"🔍 Data Integrity Checks:\")\n",
    "print(f\"   Orders without customers: {orders_without_customers}\")\n",
    "print(f\"   Items without orders: {items_without_orders}\")\n",
    "print(f\"   Items without products: {items_without_products}\")\n",
    "print(f\"   Negative profits: {negative_profits}\")\n",
    "print(f\"   Invalid emails: {invalid_emails}\")\n",
    "\n",
    "# Revenue validation\n",
    "bronze_revenue = bronze_orders.agg(F.sum(\"total_amount\")).collect()[0][0]\n",
    "silver_revenue = silver_orders.agg(F.sum(\"total_amount\")).collect()[0][0]\n",
    "revenue_variance = abs(bronze_revenue - silver_revenue) / bronze_revenue * 100\n",
    "\n",
    "print(f\"\\n💰 Revenue Validation:\")\n",
    "print(f\"   Bronze revenue: ${bronze_revenue:,.2f}\")\n",
    "print(f\"   Silver revenue: ${silver_revenue:,.2f}\")\n",
    "print(f\"   Variance: {revenue_variance:.2f}%\")\n",
    "\n",
    "# Calculate Silver quality score\n",
    "total_silver_issues = (orders_without_customers + items_without_orders + \n",
    "                      items_without_products + negative_profits + invalid_emails)\n",
    "total_silver_records = (customers_silver_count + products_silver_count + \n",
    "                       orders_silver_count + order_items_silver_count)\n",
    "\n",
    "if total_silver_issues == 0 and revenue_variance < 1:\n",
    "    silver_quality_score = 100.0\n",
    "else:\n",
    "    silver_quality_score = max(0, 100 - (total_silver_issues * 2) - revenue_variance)\n",
    "\n",
    "print(f\"\\n🎯 Silver Quality Score: {silver_quality_score:.1f}%\")"
   ]
  },
  {
   "cell_type": "code",
   "execution_count": 0,
   "metadata": {
    "application/vnd.databricks.v1+cell": {
     "cellMetadata": {},
     "inputWidgets": {},
     "nuid": "d6c9cdf8-0209-4e42-a151-1dbce2425d84",
     "showTitle": false,
     "tableResultSettingsMap": {},
     "title": ""
    }
   },
   "outputs": [],
   "source": [
    "# Set task values for Gold layer\n",
    "silver_processing_timestamp = str(datetime.now())\n",
    "\n",
    "dbutils.jobs.taskValues.set(key=\"silver_customers_count\", value=customers_silver_count)\n",
    "dbutils.jobs.taskValues.set(key=\"silver_products_count\", value=products_silver_count)\n",
    "dbutils.jobs.taskValues.set(key=\"silver_orders_count\", value=orders_silver_count)\n",
    "dbutils.jobs.taskValues.set(key=\"silver_order_items_count\", value=order_items_silver_count)\n",
    "dbutils.jobs.taskValues.set(key=\"silver_customer_summary_count\", value=customer_summary_count)\n",
    "dbutils.jobs.taskValues.set(key=\"silver_quality_score\", value=float(silver_quality_score))\n",
    "dbutils.jobs.taskValues.set(key=\"silver_total_issues\", value=total_silver_issues)\n",
    "dbutils.jobs.taskValues.set(key=\"silver_revenue\", value=float(silver_revenue))\n",
    "dbutils.jobs.taskValues.set(key=\"revenue_variance_pct\", value=float(revenue_variance))\n",
    "dbutils.jobs.taskValues.set(key=\"silver_processing_timestamp\", value=silver_processing_timestamp)\n",
    "dbutils.jobs.taskValues.set(key=\"silver_container_path\", value=f\"abfss://silver@{STORAGE_ACCOUNT}.dfs.core.windows.net/\")\n",
    "\n",
    "# Data retention from Bronze\n",
    "data_retention_pct = (orders_silver_count / bronze_orders_count * 100) if bronze_orders_count > 0 else 100\n",
    "dbutils.jobs.taskValues.set(key=\"data_retention_percentage\", value=float(data_retention_pct))\n",
    "\n",
    "print(\"📋 SILVER LAYER SUMMARY\")\n",
    "print(\"=\" * 40)\n",
    "print(f\"📁 Storage Location: abfss://silver@{STORAGE_ACCOUNT}.dfs.core.windows.net/\")\n",
    "print(f\"📊 Records Processed:\")\n",
    "print(f\"   Customers: {customers_silver_count:,}\")\n",
    "print(f\"   Products: {products_silver_count:,}\")\n",
    "print(f\"   Orders: {orders_silver_count:,}\")\n",
    "print(f\"   Order Items: {order_items_silver_count:,}\")\n",
    "print(f\"   Customer Summary: {customer_summary_count:,}\")\n",
    "print(f\"🎯 Data Quality Score: {silver_quality_score:.1f}%\")\n",
    "print(f\"💰 Revenue Preserved: {silver_revenue:,.2f} ({100-revenue_variance:.1f}%)\")\n",
    "print(f\"📈 Data Retention: {data_retention_pct:.1f}%\")\n",
    "\n",
    "print(\"\\n✅ Silver layer processing complete!\")\n",
    "print(\"📁 Data stored in Azure Silver container\")\n",
    "print(\"📋 Task values set for Gold layer analytics\")\n",
    "print(\"🔜 Next: Run 04_gold_analytics.py\")"
   ]
  }
 ],
 "metadata": {
  "application/vnd.databricks.v1+notebook": {
   "computePreferences": null,
   "dashboards": [],
   "environmentMetadata": null,
   "inputWidgetPreferences": null,
   "language": "python",
   "notebookMetadata": {
    "pythonIndentUnit": 4
   },
   "notebookName": "final_silver_processing",
   "widgets": {}
  },
  "language_info": {
   "name": "python"
  }
 },
 "nbformat": 4,
 "nbformat_minor": 0
}
