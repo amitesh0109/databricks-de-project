{
 "cells": [
  {
   "cell_type": "code",
   "execution_count": 0,
   "metadata": {
    "application/vnd.databricks.v1+cell": {
     "cellMetadata": {
      "byteLimit": 2048000,
      "rowLimit": 10000
     },
     "inputWidgets": {},
     "nuid": "6a5850bc-d5d4-45f8-91cf-b164eb471863",
     "showTitle": false,
     "tableResultSettingsMap": {},
     "title": ""
    }
   },
   "outputs": [
    {
     "output_type": "stream",
     "name": "stdout",
     "output_type": "stream",
     "text": [
      "Azure Storage authentication configured\n"
     ]
    }
   ],
   "source": [
    "# Databricks notebook source\n",
    "# Azure Storage Configuration\n",
    "dbutils.widgets.text(\"storage_account\", \"\")\n",
    "STORAGE_ACCOUNT = dbutils.widgets.get(\"storage_account\")  # Get the storage account name from task parameter\n",
    "\n",
    "print(\"Azure Storage authentication configured\")"
   ]
  },
  {
   "cell_type": "code",
   "execution_count": 0,
   "metadata": {
    "application/vnd.databricks.v1+cell": {
     "cellMetadata": {
      "byteLimit": 2048000,
      "rowLimit": 10000
     },
     "inputWidgets": {},
     "nuid": "75d365cd-2b5a-4fc3-8428-6252d7aadfef",
     "showTitle": false,
     "tableResultSettingsMap": {},
     "title": ""
    }
   },
   "outputs": [
    {
     "output_type": "stream",
     "name": "stdout",
     "output_type": "stream",
     "text": [
      "Generating E-commerce Data for Azure Storage...\n"
     ]
    }
   ],
   "source": [
    "import pandas as pd\n",
    "import numpy as np\n",
    "from datetime import datetime, timedelta\n",
    "import random\n",
    "from pyspark.sql import functions as F\n",
    "\n",
    "np.random.seed(42)\n",
    "random.seed(42)\n",
    "\n",
    "print(\"Generating E-commerce Data for Azure Storage...\")"
   ]
  },
  {
   "cell_type": "code",
   "execution_count": 0,
   "metadata": {
    "application/vnd.databricks.v1+cell": {
     "cellMetadata": {
      "byteLimit": 2048000,
      "rowLimit": 10000
     },
     "inputWidgets": {},
     "nuid": "5cd670ba-e544-4cc4-a6ea-e6408e265279",
     "showTitle": false,
     "tableResultSettingsMap": {},
     "title": ""
    }
   },
   "outputs": [
    {
     "output_type": "stream",
     "name": "stdout",
     "output_type": "stream",
     "text": [
      "Generated 500 customers\n"
     ]
    }
   ],
   "source": [
    "# Generate customers\n",
    "def create_customers():\n",
    "    segments = ['Premium', 'Standard', 'Budget']\n",
    "    countries = ['US', 'CA', 'UK', 'DE', 'AU']\n",
    "    \n",
    "    customers = []\n",
    "    for i in range(500):\n",
    "        customer = {\n",
    "            'customer_id': f\"CUST{i+1:04d}\",\n",
    "            'first_name': f\"Customer{i+1}\",\n",
    "            'last_name': f\"LastName{i+1}\",\n",
    "            'email': f\"customer{i+1}@email.com\",\n",
    "            'phone': f\"+1-555-{random.randint(1000,9999)}\",\n",
    "            'country': np.random.choice(countries, p=[0.6, 0.1, 0.15, 0.1, 0.05]),\n",
    "            'city': f\"City{random.randint(1,50)}\",\n",
    "            'segment': np.random.choice(segments, p=[0.2, 0.5, 0.3]),\n",
    "            'registration_date': (datetime.now() - timedelta(days=random.randint(30, 730))).date(),\n",
    "            'is_active': np.random.choice([True, False], p=[0.85, 0.15])\n",
    "        }\n",
    "        customers.append(customer)\n",
    "    \n",
    "    return pd.DataFrame(customers)\n",
    "\n",
    "customers_df = create_customers()\n",
    "print(f\"Generated {len(customers_df)} customers\")"
   ]
  },
  {
   "cell_type": "code",
   "execution_count": 0,
   "metadata": {
    "application/vnd.databricks.v1+cell": {
     "cellMetadata": {
      "byteLimit": 2048000,
      "rowLimit": 10000
     },
     "inputWidgets": {},
     "nuid": "d3fec655-9d3a-434d-8cdd-00f2069e18a1",
     "showTitle": false,
     "tableResultSettingsMap": {},
     "title": ""
    }
   },
   "outputs": [
    {
     "output_type": "stream",
     "name": "stdout",
     "output_type": "stream",
     "text": [
      "Generated 100 products\n"
     ]
    }
   ],
   "source": [
    "# Generate products\n",
    "def create_products():\n",
    "    categories = {\n",
    "        'Electronics': ['Smartphone', 'Laptop', 'Tablet', 'Headphones'],\n",
    "        'Clothing': ['T-Shirt', 'Jeans', 'Jacket', 'Shoes'],\n",
    "        'Home': ['Chair', 'Table', 'Lamp', 'Pillow'],\n",
    "        'Books': ['Fiction', 'Non-Fiction', 'Tech', 'Biography'],\n",
    "        'Sports': ['Equipment', 'Clothing', 'Accessories', 'Footwear']\n",
    "    }\n",
    "    \n",
    "    products = []\n",
    "    product_id = 1\n",
    "    \n",
    "    for category, subcategories in categories.items():\n",
    "        for subcategory in subcategories:\n",
    "            for i in range(5):\n",
    "                if category == 'Electronics':\n",
    "                    price = round(random.uniform(100, 1500), 2)\n",
    "                elif category == 'Clothing':\n",
    "                    price = round(random.uniform(25, 200), 2)\n",
    "                elif category == 'Home':\n",
    "                    price = round(random.uniform(50, 500), 2)\n",
    "                elif category == 'Books':\n",
    "                    price = round(random.uniform(10, 50), 2)\n",
    "                else:\n",
    "                    price = round(random.uniform(30, 300), 2)\n",
    "                \n",
    "                product = {\n",
    "                    'product_id': f\"PROD{product_id:04d}\",\n",
    "                    'product_name': f\"{category} {subcategory} Model {i+1}\",\n",
    "                    'category': category,\n",
    "                    'subcategory': subcategory,\n",
    "                    'price': price,\n",
    "                    'cost': round(price * random.uniform(0.4, 0.7), 2),\n",
    "                    'stock_quantity': random.randint(10, 200),\n",
    "                    'is_active': np.random.choice([True, False], p=[0.9, 0.1])\n",
    "                }\n",
    "                products.append(product)\n",
    "                product_id += 1\n",
    "    \n",
    "    return pd.DataFrame(products)\n",
    "\n",
    "products_df = create_products()\n",
    "print(f\"Generated {len(products_df)} products\")"
   ]
  },
  {
   "cell_type": "code",
   "execution_count": 0,
   "metadata": {
    "application/vnd.databricks.v1+cell": {
     "cellMetadata": {
      "byteLimit": 2048000,
      "rowLimit": 10000
     },
     "inputWidgets": {},
     "nuid": "586ac22f-ea24-448d-92c8-266353901f35",
     "showTitle": false,
     "tableResultSettingsMap": {},
     "title": ""
    }
   },
   "outputs": [
    {
     "output_type": "stream",
     "name": "stdout",
     "output_type": "stream",
     "text": [
      "Generated 1000 orders\nGenerated 2045 order items\n"
     ]
    }
   ],
   "source": [
    "# Generate orders and order items\n",
    "def create_orders():\n",
    "    orders = []\n",
    "    order_items = []\n",
    "    \n",
    "    statuses = ['Pending', 'Processing', 'Shipped', 'Delivered', 'Cancelled']\n",
    "    payment_methods = ['Credit Card', 'PayPal', 'Bank Transfer', 'Cash']\n",
    "    \n",
    "    active_customers = customers_df[customers_df['is_active'] == True]['customer_id'].tolist()\n",
    "    active_products = products_df[products_df['is_active'] == True]\n",
    "    \n",
    "    for i in range(1000):\n",
    "        order_id = f\"ORD{i+1:06d}\"\n",
    "        customer_id = random.choice(active_customers)\n",
    "        \n",
    "        order_date = datetime.now() - timedelta(days=random.randint(1, 90))\n",
    "        \n",
    "        days_old = (datetime.now() - order_date).days\n",
    "        if days_old > 30:\n",
    "            status = np.random.choice(['Delivered', 'Cancelled'], p=[0.9, 0.1])\n",
    "        elif days_old > 7:\n",
    "            status = np.random.choice(['Delivered', 'Shipped'], p=[0.7, 0.3])\n",
    "        else:\n",
    "            status = np.random.choice(['Processing', 'Shipped', 'Pending'], p=[0.5, 0.3, 0.2])\n",
    "        \n",
    "        num_items = np.random.choice([1, 2, 3, 4], p=[0.4, 0.3, 0.2, 0.1])\n",
    "        selected_products = active_products.sample(n=min(num_items, len(active_products)))\n",
    "        \n",
    "        order_total = 0\n",
    "        \n",
    "        for j, (_, product) in enumerate(selected_products.iterrows()):\n",
    "            quantity = random.randint(1, 5)\n",
    "            unit_price = product['price']\n",
    "            \n",
    "            discount = np.random.choice([0, 0.05, 0.1, 0.15], p=[0.6, 0.2, 0.15, 0.05])\n",
    "            final_price = unit_price * (1 - discount)\n",
    "            line_total = quantity * final_price\n",
    "            order_total += line_total\n",
    "            \n",
    "            order_item = {\n",
    "                'order_id': order_id,\n",
    "                'product_id': product['product_id'],\n",
    "                'product_name': product['product_name'],\n",
    "                'category': product['category'],\n",
    "                'quantity': quantity,\n",
    "                'unit_price': round(final_price, 2),\n",
    "                'discount_percent': round(discount * 100, 1),\n",
    "                'line_total': round(line_total, 2)\n",
    "            }\n",
    "            order_items.append(order_item)\n",
    "        \n",
    "        shipping = 0 if order_total > 100 else 10.99\n",
    "        tax = round(order_total * 0.08, 2)\n",
    "        final_total = round(order_total + shipping + tax, 2)\n",
    "        \n",
    "        order = {\n",
    "            'order_id': order_id,\n",
    "            'customer_id': customer_id,\n",
    "            'order_date': order_date.date(),\n",
    "            'order_timestamp': order_date,\n",
    "            'status': status,\n",
    "            'payment_method': random.choice(payment_methods),\n",
    "            'subtotal': round(order_total, 2),\n",
    "            'shipping_cost': shipping,\n",
    "            'tax_amount': tax,\n",
    "            'total_amount': final_total,\n",
    "            'currency': 'USD'\n",
    "        }\n",
    "        orders.append(order)\n",
    "    \n",
    "    return pd.DataFrame(orders), pd.DataFrame(order_items)\n",
    "\n",
    "orders_df, order_items_df = create_orders()\n",
    "print(f\"Generated {len(orders_df)} orders\")\n",
    "print(f\"Generated {len(order_items_df)} order items\")"
   ]
  },
  {
   "cell_type": "code",
   "execution_count": 0,
   "metadata": {
    "application/vnd.databricks.v1+cell": {
     "cellMetadata": {
      "byteLimit": 2048000,
      "rowLimit": 10000
     },
     "inputWidgets": {},
     "nuid": "0db272d8-6ff3-41e8-857b-12a4b5433230",
     "showTitle": false,
     "tableResultSettingsMap": {},
     "title": ""
    }
   },
   "outputs": [
    {
     "output_type": "stream",
     "name": "stdout",
     "output_type": "stream",
     "text": [
      "Saving datasets to Azure Storage...\nSaved customers.csv: 500 records to Azure Storage\nSaved products.csv: 100 records to Azure Storage\nSaved orders.csv: 1000 records to Azure Storage\nSaved order_items.csv: 2045 records to Azure Storage\n"
     ]
    }
   ],
   "source": [
    "# Save as CSV files to Azure Storage\n",
    "base_path = f\"abfss://bronze@{STORAGE_ACCOUNT}.dfs.core.windows.net/raw/\"\n",
    "\n",
    "# Create directory\n",
    "dbutils.fs.mkdirs(base_path)\n",
    "\n",
    "def save_as_csv(pandas_df, filename):\n",
    "    spark_df = spark.createDataFrame(pandas_df)\n",
    "    spark_df.coalesce(1).write \\\n",
    "        .mode(\"overwrite\") \\\n",
    "        .option(\"header\", \"true\") \\\n",
    "        .csv(f\"{base_path}{filename}\")\n",
    "    print(f\"Saved {filename}: {len(pandas_df)} records to Azure Storage\")\n",
    "\n",
    "print(\"Saving datasets to Azure Storage...\")\n",
    "save_as_csv(customers_df, \"customers\")\n",
    "save_as_csv(products_df, \"products\") \n",
    "save_as_csv(orders_df, \"orders\")\n",
    "save_as_csv(order_items_df, \"order_items\")\n"
   ]
  },
  {
   "cell_type": "code",
   "execution_count": 0,
   "metadata": {
    "application/vnd.databricks.v1+cell": {
     "cellMetadata": {
      "byteLimit": 2048000,
      "rowLimit": 10000
     },
     "inputWidgets": {},
     "nuid": "c68ecee0-8091-4378-8b9a-fa6dd74ef670",
     "showTitle": false,
     "tableResultSettingsMap": {},
     "title": ""
    }
   },
   "outputs": [
    {
     "output_type": "stream",
     "name": "stdout",
     "output_type": "stream",
     "text": [
      "\nBUSINESS METRICS SUMMARY\n========================\nTotal Revenue: $1,615,949.82\nTotal Orders: 1,000\nAverage Order Value: $1615.95\nActive Customers: 419\nProducts in Catalog: 100\n\nData saved to Azure Storage:\nBronze Container: abfss://bronze@dataworks.dfs.core.windows.net/raw/\n\n✅ Task values set for downstream processing\nData generation complete!\n\nNext: Run 02_bronze_ingestion.py\n"
     ]
    }
   ],
   "source": [
    "# Business Summary and Task Values\n",
    "total_revenue = orders_df['total_amount'].sum()\n",
    "avg_order_value = orders_df['total_amount'].mean()\n",
    "active_customers = len(customers_df[customers_df['is_active'] == True])\n",
    "\n",
    "# Set task values for next notebook\n",
    "dbutils.jobs.taskValues.set(key=\"customers_generated\", value=len(customers_df))\n",
    "dbutils.jobs.taskValues.set(key=\"products_generated\", value=len(products_df))\n",
    "dbutils.jobs.taskValues.set(key=\"orders_generated\", value=len(orders_df))\n",
    "dbutils.jobs.taskValues.set(key=\"order_items_generated\", value=len(order_items_df))\n",
    "dbutils.jobs.taskValues.set(key=\"total_revenue\", value=float(total_revenue))\n",
    "dbutils.jobs.taskValues.set(key=\"avg_order_value\", value=float(avg_order_value))\n",
    "dbutils.jobs.taskValues.set(key=\"active_customers\", value=active_customers)\n",
    "dbutils.jobs.taskValues.set(key=\"data_generation_timestamp\", value=str(datetime.now()))\n",
    "dbutils.jobs.taskValues.set(key=\"source_path\", value=base_path)\n",
    "dbutils.jobs.taskValues.set(key=\"STORAGE_ACCOUNT\",value=STORAGE_ACCOUNT)\n",
    "\n",
    "print(f\"\"\"\n",
    "BUSINESS METRICS SUMMARY\n",
    "========================\n",
    "Total Revenue: ${total_revenue:,.2f}\n",
    "Total Orders: {len(orders_df):,}\n",
    "Average Order Value: ${avg_order_value:.2f}\n",
    "Active Customers: {active_customers:,}\n",
    "Products in Catalog: {len(products_df):,}\n",
    "\n",
    "Data saved to Azure Storage:\n",
    "Bronze Container: {base_path}\n",
    "\n",
    "✅ Task values set for downstream processing\n",
    "Data generation complete!\n",
    "\"\"\")\n",
    "\n",
    "print(\"Next: Run 02_bronze_ingestion.py\")"
   ]
  }
 ],
 "metadata": {
  "application/vnd.databricks.v1+notebook": {
   "computePreferences": null,
   "dashboards": [],
   "environmentMetadata": {
    "base_environment": "",
    "environment_version": "2"
   },
   "inputWidgetPreferences": null,
   "language": "python",
   "notebookMetadata": {
    "pythonIndentUnit": 4
   },
   "notebookName": "Data Generation",
   "widgets": {}
  },
  "language_info": {
   "name": "python"
  }
 },
 "nbformat": 4,
 "nbformat_minor": 0
}